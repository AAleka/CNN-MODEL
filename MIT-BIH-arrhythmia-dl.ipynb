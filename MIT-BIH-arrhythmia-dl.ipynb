{
 "cells": [
  {
   "cell_type": "markdown",
   "metadata": {},
   "source": [
    "# Detecting arrythmia using Deep Leaning"
   ]
  },
  {
   "cell_type": "markdown",
   "metadata": {},
   "source": [
    "## Loading modules"
   ]
  },
  {
   "cell_type": "code",
   "execution_count": 5,
   "metadata": {},
   "outputs": [
    {
     "name": "stdout",
     "output_type": "stream",
     "text": [
      "Requirement already satisfied: tensorflow in c:\\users\\mrall\\appdata\\roaming\\python\\python38\\site-packages (2.4.1)\n",
      "Requirement already satisfied: flatbuffers~=1.12.0 in c:\\users\\mrall\\appdata\\roaming\\python\\python38\\site-packages (from tensorflow) (1.12)\n",
      "Requirement already satisfied: google-pasta~=0.2 in c:\\users\\mrall\\appdata\\roaming\\python\\python38\\site-packages (from tensorflow) (0.2.0)\n",
      "Requirement already satisfied: numpy~=1.19.2 in c:\\users\\mrall\\anaconda3\\lib\\site-packages (from tensorflow) (1.19.5)\n",
      "Requirement already satisfied: protobuf>=3.9.2 in c:\\users\\mrall\\appdata\\roaming\\python\\python38\\site-packages (from tensorflow) (3.15.6)\n",
      "Requirement already satisfied: tensorflow-estimator<2.5.0,>=2.4.0 in c:\\users\\mrall\\appdata\\roaming\\python\\python38\\site-packages (from tensorflow) (2.4.0)\n",
      "Requirement already satisfied: six~=1.15.0 in c:\\users\\mrall\\appdata\\roaming\\python\\python38\\site-packages (from tensorflow) (1.15.0)\n",
      "Requirement already satisfied: termcolor~=1.1.0 in c:\\users\\mrall\\appdata\\roaming\\python\\python38\\site-packages (from tensorflow) (1.1.0)\n",
      "Requirement already satisfied: typing-extensions~=3.7.4 in c:\\users\\mrall\\anaconda3\\lib\\site-packages (from tensorflow) (3.7.4.2)\n",
      "Requirement already satisfied: astunparse~=1.6.3 in c:\\users\\mrall\\appdata\\roaming\\python\\python38\\site-packages (from tensorflow) (1.6.3)\n",
      "Requirement already satisfied: keras-preprocessing~=1.1.2 in c:\\users\\mrall\\appdata\\roaming\\python\\python38\\site-packages (from tensorflow) (1.1.2)\n",
      "Requirement already satisfied: tensorboard~=2.4 in c:\\users\\mrall\\appdata\\roaming\\python\\python38\\site-packages (from tensorflow) (2.4.1)\n",
      "Requirement already satisfied: gast==0.3.3 in c:\\users\\mrall\\appdata\\roaming\\python\\python38\\site-packages (from tensorflow) (0.3.3)\n",
      "Requirement already satisfied: opt-einsum~=3.3.0 in c:\\users\\mrall\\appdata\\roaming\\python\\python38\\site-packages (from tensorflow) (3.3.0)\n",
      "Requirement already satisfied: wrapt~=1.12.1 in c:\\users\\mrall\\appdata\\roaming\\python\\python38\\site-packages (from tensorflow) (1.12.1)\n",
      "Requirement already satisfied: absl-py~=0.10 in c:\\users\\mrall\\appdata\\roaming\\python\\python38\\site-packages (from tensorflow) (0.12.0)\n",
      "Requirement already satisfied: wheel~=0.35 in c:\\users\\mrall\\appdata\\roaming\\python\\python38\\site-packages (from tensorflow) (0.36.2)\n",
      "Requirement already satisfied: h5py~=2.10.0 in c:\\users\\mrall\\anaconda3\\lib\\site-packages (from tensorflow) (2.10.0)\n",
      "Requirement already satisfied: grpcio~=1.32.0 in c:\\users\\mrall\\appdata\\roaming\\python\\python38\\site-packages (from tensorflow) (1.32.0)\n",
      "Requirement already satisfied: requests<3,>=2.21.0 in c:\\users\\mrall\\appdata\\roaming\\python\\python38\\site-packages (from tensorboard~=2.4->tensorflow) (2.22.0)\n",
      "Requirement already satisfied: tensorboard-plugin-wit>=1.6.0 in c:\\users\\mrall\\appdata\\roaming\\python\\python38\\site-packages (from tensorboard~=2.4->tensorflow) (1.8.0)\n",
      "Requirement already satisfied: markdown>=2.6.8 in c:\\users\\mrall\\appdata\\roaming\\python\\python38\\site-packages (from tensorboard~=2.4->tensorflow) (3.2.1)\n",
      "Requirement already satisfied: google-auth-oauthlib<0.5,>=0.4.1 in c:\\users\\mrall\\appdata\\roaming\\python\\python38\\site-packages (from tensorboard~=2.4->tensorflow) (0.4.1)\n",
      "Requirement already satisfied: werkzeug>=0.11.15 in c:\\users\\mrall\\anaconda3\\lib\\site-packages (from tensorboard~=2.4->tensorflow) (1.0.1)\n",
      "Requirement already satisfied: setuptools>=41.0.0 in c:\\users\\mrall\\anaconda3\\lib\\site-packages (from tensorboard~=2.4->tensorflow) (49.2.0.post20200714)\n",
      "Requirement already satisfied: google-auth<2,>=1.6.3 in c:\\users\\mrall\\appdata\\roaming\\python\\python38\\site-packages (from tensorboard~=2.4->tensorflow) (1.11.2)\n",
      "Requirement already satisfied: chardet<3.1.0,>=3.0.2 in c:\\users\\mrall\\anaconda3\\lib\\site-packages (from requests<3,>=2.21.0->tensorboard~=2.4->tensorflow) (3.0.4)\n",
      "Requirement already satisfied: certifi>=2017.4.17 in c:\\users\\mrall\\appdata\\roaming\\python\\python38\\site-packages (from requests<3,>=2.21.0->tensorboard~=2.4->tensorflow) (2019.11.28)\n",
      "Requirement already satisfied: urllib3!=1.25.0,!=1.25.1,<1.26,>=1.21.1 in c:\\users\\mrall\\appdata\\roaming\\python\\python38\\site-packages (from requests<3,>=2.21.0->tensorboard~=2.4->tensorflow) (1.25.8)\n",
      "Requirement already satisfied: idna<2.9,>=2.5 in c:\\users\\mrall\\appdata\\roaming\\python\\python38\\site-packages (from requests<3,>=2.21.0->tensorboard~=2.4->tensorflow) (2.8)\n",
      "Requirement already satisfied: requests-oauthlib>=0.7.0 in c:\\users\\mrall\\appdata\\roaming\\python\\python38\\site-packages (from google-auth-oauthlib<0.5,>=0.4.1->tensorboard~=2.4->tensorflow) (1.3.0)\n",
      "Requirement already satisfied: rsa<4.1,>=3.1.4 in c:\\users\\mrall\\appdata\\roaming\\python\\python38\\site-packages (from google-auth<2,>=1.6.3->tensorboard~=2.4->tensorflow) (4.0)\n",
      "Requirement already satisfied: cachetools<5.0,>=2.0.0 in c:\\users\\mrall\\appdata\\roaming\\python\\python38\\site-packages (from google-auth<2,>=1.6.3->tensorboard~=2.4->tensorflow) (4.0.0)\n",
      "Requirement already satisfied: pyasn1-modules>=0.2.1 in c:\\users\\mrall\\appdata\\roaming\\python\\python38\\site-packages (from google-auth<2,>=1.6.3->tensorboard~=2.4->tensorflow) (0.2.8)\n",
      "Requirement already satisfied: oauthlib>=3.0.0 in c:\\users\\mrall\\appdata\\roaming\\python\\python38\\site-packages (from requests-oauthlib>=0.7.0->google-auth-oauthlib<0.5,>=0.4.1->tensorboard~=2.4->tensorflow) (3.1.0)\n",
      "Requirement already satisfied: pyasn1>=0.1.3 in c:\\users\\mrall\\appdata\\roaming\\python\\python38\\site-packages (from rsa<4.1,>=3.1.4->google-auth<2,>=1.6.3->tensorboard~=2.4->tensorflow) (0.4.8)\n",
      "Processing c:\\users\\mrall\\appdata\\local\\pip\\cache\\wheels\\bd\\a8\\c3\\3cf2c14a1837a4e04bd98631724e81f33f462d86a1d895fae0\\wget-3.2-py3-none-any.whl\n",
      "Installing collected packages: wget\n",
      "Successfully installed wget-3.2\n"
     ]
    }
   ],
   "source": [
    "! pip install tensorflow\n",
    "! pip install wget"
   ]
  },
  {
   "cell_type": "code",
   "execution_count": 37,
   "metadata": {},
   "outputs": [
    {
     "name": "stdout",
     "output_type": "stream",
     "text": [
      "Collecting keras==2.4.3\n",
      "  Using cached Keras-2.4.3-py2.py3-none-any.whl (36 kB)\n",
      "Requirement already satisfied, skipping upgrade: h5py in c:\\users\\mrall\\anaconda3\\lib\\site-packages (from keras==2.4.3) (2.10.0)\n",
      "Requirement already satisfied, skipping upgrade: scipy>=0.14 in c:\\users\\mrall\\appdata\\roaming\\python\\python38\\site-packages (from keras==2.4.3) (1.4.1)\n",
      "Requirement already satisfied, skipping upgrade: numpy>=1.9.1 in c:\\users\\mrall\\anaconda3\\lib\\site-packages (from keras==2.4.3) (1.19.5)\n",
      "Requirement already satisfied, skipping upgrade: pyyaml in c:\\users\\mrall\\appdata\\roaming\\python\\python38\\site-packages (from keras==2.4.3) (5.3)\n",
      "Requirement already satisfied, skipping upgrade: six in c:\\users\\mrall\\appdata\\roaming\\python\\python38\\site-packages (from h5py->keras==2.4.3) (1.15.0)\n",
      "Installing collected packages: keras\n",
      "  Attempting uninstall: keras\n",
      "    Found existing installation: Keras 2.3.1\n",
      "    Uninstalling Keras-2.3.1:\n",
      "      Successfully uninstalled Keras-2.3.1\n",
      "Successfully installed keras-2.4.3\n",
      "Note: you may need to restart the kernel to use updated packages.\n"
     ]
    }
   ],
   "source": [
    "pip install --upgrade keras==2.4.3"
   ]
  },
  {
   "cell_type": "code",
   "execution_count": 1,
   "metadata": {},
   "outputs": [
    {
     "name": "stderr",
     "output_type": "stream",
     "text": [
      "C:\\Users\\mrall\\anaconda3\\lib\\site-packages\\numpy\\_distributor_init.py:30: UserWarning: loaded more than 1 DLL from .libs:\n",
      "C:\\Users\\mrall\\anaconda3\\lib\\site-packages\\numpy\\.libs\\libopenblas.PYQHXLVVQ7VESDPUVUADXEVJOBGHJPAY.gfortran-win_amd64.dll\n",
      "C:\\Users\\mrall\\anaconda3\\lib\\site-packages\\numpy\\.libs\\libopenblas.WCDJNK7YVMPZQ2ME2ZZHJJRJ3JIKNDB7.gfortran-win_amd64.dll\n",
      "  warnings.warn(\"loaded more than 1 DLL from .libs:\"\n"
     ]
    }
   ],
   "source": [
    "import pandas as pd\n",
    "import numpy as np\n",
    "import wfdb\n",
    "from sklearn.model_selection import train_test_split\n",
    "from sklearn.preprocessing import StandardScaler\n",
    "import matplotlib.pyplot as plt\n",
    "from pathlib import Path"
   ]
  },
  {
   "cell_type": "code",
   "execution_count": 2,
   "metadata": {},
   "outputs": [],
   "source": [
    "from tensorflow.keras import Sequential\n",
    "from tensorflow.keras.layers import Conv1D, LSTM, Dense, Dropout, TimeDistributed\n",
    "\n",
    "from keras.optimizers import Adam"
   ]
  },
  {
   "cell_type": "code",
   "execution_count": 3,
   "metadata": {},
   "outputs": [],
   "source": [
    "import matplotlib.pyplot as plt"
   ]
  },
  {
   "cell_type": "markdown",
   "metadata": {},
   "source": [
    "## Download Dataset"
   ]
  },
  {
   "cell_type": "code",
   "execution_count": 4,
   "metadata": {},
   "outputs": [],
   "source": [
    "import wget\n",
    "import zipfile\n",
    "\n",
    "database_filename = \"mit-bih-arrhythmia-database-1.0.0.zip\"\n",
    "database_path = Path(database_filename)\n",
    "\n",
    "if not database_path.exists():\n",
    "    url = f'https://storage.googleapis.com/mitdb-1.0.0.physionet.org/{database_filename}'\n",
    "    wget.download(url)\n",
    "    with zipfile.ZipFile(database_filename, 'r') as zip_ref:\n",
    "        zip_ref.extractall(\".\")"
   ]
  },
  {
   "cell_type": "markdown",
   "metadata": {},
   "source": [
    "## Loading data"
   ]
  },
  {
   "cell_type": "markdown",
   "metadata": {},
   "source": [
    "Loading list of records available, from dataset available [here](https://physionet.org/content/mitdb/1.0.0/)"
   ]
  },
  {
   "cell_type": "code",
   "execution_count": 5,
   "metadata": {},
   "outputs": [],
   "source": [
    "records = np.loadtxt(\"mit-bih-arrhythmia-database-1.0.0/RECORDS\", dtype=int)"
   ]
  },
  {
   "cell_type": "markdown",
   "metadata": {},
   "source": [
    "Defining invalid beats as well as abnormal beats, according to [Physiobank](https://archive.physionet.org/physiobank/annotations.shtml)"
   ]
  },
  {
   "cell_type": "code",
   "execution_count": 6,
   "metadata": {},
   "outputs": [],
   "source": [
    "invalid_beat = [\n",
    "    \"[\", \"!\", \"]\", \"x\", \"(\", \")\", \"p\", \"t\", \n",
    "    \"u\", \"`\", \"'\", \"^\", \"|\", \"~\", \"+\", \"s\", \n",
    "    \"T\", \"*\", \"D\", \"=\", '\"', \"@\"\n",
    "]\n",
    "\n",
    "abnormal_beats = [\n",
    "    \"L\", \"R\", \"B\", \"A\", \"a\", \"J\", \"S\", \"V\", \n",
    "    \"r\", \"F\", \"e\", \"j\", \"n\", \"E\", \"/\", \"f\", \"Q\", \"?\"\n",
    "]"
   ]
  },
  {
   "cell_type": "markdown",
   "metadata": {},
   "source": [
    "## Processing dataset"
   ]
  },
  {
   "cell_type": "markdown",
   "metadata": {},
   "source": [
    "This function classify a beat according to its symbol and the list provided above."
   ]
  },
  {
   "cell_type": "code",
   "execution_count": 7,
   "metadata": {},
   "outputs": [],
   "source": [
    "def classify_beat(symbol):\n",
    "    if symbol in abnormal_beats:\n",
    "        return 1\n",
    "    elif symbol == \"N\" or symbol == \".\":\n",
    "        return 0    "
   ]
  },
  {
   "cell_type": "markdown",
   "metadata": {},
   "source": [
    "Given a signal, the beat location, and the window to be used as a sequence, this function gets the sequence. It will return an empty array in case of an invalid beat or empty sequence."
   ]
  },
  {
   "cell_type": "code",
   "execution_count": 8,
   "metadata": {},
   "outputs": [],
   "source": [
    "def get_sequence(signal, beat_loc, window_sec, fs):\n",
    "    window_one_side = window_sec * fs\n",
    "    beat_start = beat_loc - window_one_side\n",
    "    beat_end = beat_loc + window_one_side\n",
    "    if beat_end < signal.shape[0]:\n",
    "        sequence = signal[beat_start:beat_end, 0]\n",
    "        return sequence.reshape(1, -1, 1)\n",
    "    else:\n",
    "        return np.array([])"
   ]
  },
  {
   "cell_type": "markdown",
   "metadata": {},
   "source": [
    "The code below will build a list of labels and sequences as well as map the sequences for each patient. The percentage calculated represents the ratio of abnormal beats in each patient data."
   ]
  },
  {
   "cell_type": "code",
   "execution_count": 9,
   "metadata": {},
   "outputs": [],
   "source": [
    "all_sequences = []\n",
    "all_labels = []\n",
    "window_sec = 3\n",
    "subject_map = []\n",
    "for subject in records:\n",
    "    record = wfdb.rdrecord(f'mit-bih-arrhythmia-database-1.0.0/{subject}')\n",
    "    annotation = wfdb.rdann(f'mit-bih-arrhythmia-database-1.0.0/{subject}', 'atr')\n",
    "    atr_symbol = annotation.symbol\n",
    "    atr_sample = annotation.sample\n",
    "    fs = record.fs\n",
    "    scaler = StandardScaler()\n",
    "    signal = scaler.fit_transform(record.p_signal)\n",
    "    subject_labels = []\n",
    "    for i, i_sample in enumerate(atr_sample):\n",
    "        label = classify_beat(atr_symbol[i])\n",
    "        sequence = get_sequence(signal, i_sample, window_sec, fs)\n",
    "        if label is not None and sequence.size > 0:\n",
    "            all_sequences.append(sequence)\n",
    "            subject_labels.append(label)\n",
    "\n",
    "    normal_percentage = sum(subject_labels) / len(subject_labels)\n",
    "    subject_map.append({\n",
    "        \"subject\": subject,\n",
    "        \"percentage\": normal_percentage,\n",
    "        \"num_seq\": len(subject_labels),\n",
    "        \"start\": len(all_labels),\n",
    "        \"end\": len(all_labels)+len(subject_labels)\n",
    "    })\n",
    "    all_labels.extend(subject_labels)"
   ]
  },
  {
   "cell_type": "markdown",
   "metadata": {},
   "source": [
    "Creating bins to be used to stratify the train and validation split. "
   ]
  },
  {
   "cell_type": "code",
   "execution_count": 10,
   "metadata": {},
   "outputs": [],
   "source": [
    "subject_map = pd.DataFrame(subject_map)"
   ]
  },
  {
   "cell_type": "markdown",
   "metadata": {},
   "source": [
    "The code presented will create class in each patient is segmented."
   ]
  },
  {
   "cell_type": "code",
   "execution_count": 11,
   "metadata": {},
   "outputs": [],
   "source": [
    "bins = [0, 0.2, 0.6, 1.0]\n",
    "subject_map[\"bin\"] = pd.cut(subject_map['percentage'], bins=bins, labels=False, include_lowest=True)"
   ]
  },
  {
   "cell_type": "markdown",
   "metadata": {},
   "source": [
    "Now, the dataset is split into train and validation, stratifying by the bin defined above."
   ]
  },
  {
   "cell_type": "code",
   "execution_count": 12,
   "metadata": {},
   "outputs": [
    {
     "name": "stdout",
     "output_type": "stream",
     "text": [
      "    subject  percentage  num_seq   start     end  bin\n",
      "43      230    0.000445     2248   97730   99978    0\n",
      "42      228    0.177908     2046   95684   97730    0\n",
      "17      118    1.000000     2271   35784   38055    2\n",
      "8       108    0.013660     1757   17315   19072    0\n",
      "10      111    1.000000     2118   21595   23713    2\n",
      "6       106    0.256309     2021   13164   15185    1\n",
      "28      207    1.000000     1851   59784   61635    2\n",
      "14      115    0.000000     1946   29905   31851    0\n",
      "32      212    0.664599     2740   70218   72958    2\n",
      "37      219    0.033520     2148   84006   86154    0\n",
      "0       100    0.015018     2264       0    2264    0\n",
      "11      112    0.000790     2531   23713   26244    0\n",
      "15      116    0.045757     2404   31851   34255    0\n",
      "36      217    0.889192     2202   81804   84006    2\n",
      "2       102    0.954566     2179    4122    6301    2\n",
      "40      222    0.170170     2474   90613   93087    0\n",
      "46      233    0.275660     3069  103318  106387    1\n",
      "3       103    0.000962     2078    6301    8379    0\n",
      "9       109    1.000000     2523   19072   21595    2\n",
      "1       101    0.002691     1858    2264    4122    0\n",
      "45      232    1.000000     1775  101543  103318    2\n",
      "38      220    0.046078     2040   86154   88194    0\n",
      "34      214    1.000000     2254   76197   78451    2\n",
      "39      221    0.163291     2419   88194   90613    0\n",
      "26      203    0.151801     2971   54165   57136    0\n",
      "47      234    0.019308     2745  106387  109132    0\n",
      "19      121    0.001078     1856   40036   41892    0\n",
      "4       104    0.926610     2221    8379   10600    2\n",
      "5       105    0.017941     2564   10600   13164    0\n",
      "25      202    0.035211     2130   52035   54165    0\n",
      "35      215    0.050104     3353   78451   81804    0\n",
      "41      223    0.221794     2597   93087   95684    1\n",
      "20      122    0.000000     2467   41892   44359    0\n",
      "21      123    0.001984     1512   44359   45871    0\n",
      "23      200    0.330120     2593   47485   50078    1\n",
      "27      205    0.032100     2648   57136   59784    0\n"
     ]
    }
   ],
   "source": [
    "train, validation = train_test_split(subject_map, test_size=0.25, stratify=subject_map[\"bin\"], random_state=42)\n",
    "print(train)"
   ]
  },
  {
   "cell_type": "markdown",
   "metadata": {},
   "source": [
    "This function build a dataset based on the map for each split."
   ]
  },
  {
   "cell_type": "code",
   "execution_count": 13,
   "metadata": {},
   "outputs": [],
   "source": [
    "def build_dataset(df, all_sequences, all_labels):\n",
    "    sequences = []\n",
    "    labels = []\n",
    "    for i, row in df.iterrows():\n",
    "        start = int(row[\"start\"])\n",
    "        end = int(row[\"end\"])\n",
    "        sequences.extend(all_sequences[start:end])\n",
    "        labels.extend(all_labels[start:end])\n",
    "        \n",
    "    return np.vstack(sequences), np.vstack(labels)"
   ]
  },
  {
   "cell_type": "code",
   "execution_count": 14,
   "metadata": {},
   "outputs": [],
   "source": [
    "X_train, y_train = build_dataset(train, all_sequences, all_labels)\n",
    "X_val, y_val = build_dataset(validation, all_sequences, all_labels)"
   ]
  },
  {
   "cell_type": "code",
   "execution_count": 15,
   "metadata": {},
   "outputs": [
    {
     "data": {
      "text/plain": [
       "((82873, 2160, 1), (82873, 1))"
      ]
     },
     "execution_count": 15,
     "metadata": {},
     "output_type": "execute_result"
    }
   ],
   "source": [
    "X_train.shape, y_train.shape"
   ]
  },
  {
   "cell_type": "markdown",
   "metadata": {},
   "source": [
    "## Training the model"
   ]
  },
  {
   "cell_type": "markdown",
   "metadata": {},
   "source": [
    "### CNN model"
   ]
  },
  {
   "cell_type": "code",
   "execution_count": 16,
   "metadata": {},
   "outputs": [
    {
     "name": "stdout",
     "output_type": "stream",
     "text": [
      "Model: \"sequential\"\n",
      "_________________________________________________________________\n",
      "Layer (type)                 Output Shape              Param #   \n",
      "=================================================================\n",
      "conv1d (Conv1D)              (None, 2160, 8)           40        \n",
      "_________________________________________________________________\n",
      "flatten (Flatten)            (None, 17280)             0         \n",
      "_________________________________________________________________\n",
      "dropout (Dropout)            (None, 17280)             0         \n",
      "_________________________________________________________________\n",
      "output (Dense)               (None, 1)                 17281     \n",
      "=================================================================\n",
      "Total params: 17,321\n",
      "Trainable params: 17,321\n",
      "Non-trainable params: 0\n",
      "_________________________________________________________________\n"
     ]
    }
   ],
   "source": [
    "from keras.models import Sequential\n",
    "from keras.layers import Conv1D, Flatten, Dense, Dropout\n",
    "from keras.optimizers import Adam\n",
    "\n",
    "sequence_size = X_train.shape[1]\n",
    "n_features = 1\n",
    "\n",
    "cnn_model = Sequential([\n",
    "    Conv1D(\n",
    "        filters=8,\n",
    "        kernel_size=4,\n",
    "        strides=1,\n",
    "        input_shape=(sequence_size, n_features),\n",
    "        padding=\"same\",\n",
    "        activation=\"relu\"\n",
    "    ),\n",
    "    Flatten(),\n",
    "    Dropout(0.5),\n",
    "    Dense(\n",
    "        1,\n",
    "        activation=\"sigmoid\",\n",
    "        name=\"output\",\n",
    "    )\n",
    "])\n",
    "\n",
    "optimizer = Adam(lr=0.001)\n",
    "# Compiling the model\n",
    "cnn_model.compile(\n",
    "    optimizer=optimizer,\n",
    "    loss=\"binary_crossentropy\",\n",
    "    metrics=[\"accuracy\"]\n",
    ")\n",
    "cnn_model.summary()"
   ]
  },
  {
   "cell_type": "code",
   "execution_count": 17,
   "metadata": {},
   "outputs": [
    {
     "name": "stdout",
     "output_type": "stream",
     "text": [
      "Epoch 1/10\n",
      "648/648 [==============================] - 29s 41ms/step - loss: 0.2870 - accuracy: 0.8905 - val_loss: 0.5576 - val_accuracy: 0.8135\n",
      "Epoch 2/10\n",
      "648/648 [==============================] - 19s 30ms/step - loss: 0.1778 - accuracy: 0.9408 - val_loss: 0.6416 - val_accuracy: 0.8259\n",
      "Epoch 3/10\n",
      "648/648 [==============================] - 19s 30ms/step - loss: 0.1704 - accuracy: 0.9438 - val_loss: 0.6118 - val_accuracy: 0.8245\n",
      "Epoch 4/10\n",
      "648/648 [==============================] - 19s 30ms/step - loss: 0.1569 - accuracy: 0.9491 - val_loss: 0.6409 - val_accuracy: 0.8169\n",
      "Epoch 5/10\n",
      "648/648 [==============================] - 20s 31ms/step - loss: 0.1521 - accuracy: 0.9508 - val_loss: 0.6641 - val_accuracy: 0.8227\n",
      "Epoch 6/10\n",
      "648/648 [==============================] - 21s 32ms/step - loss: 0.1427 - accuracy: 0.9538 - val_loss: 0.6595 - val_accuracy: 0.8148\n",
      "Epoch 7/10\n",
      "648/648 [==============================] - 21s 33ms/step - loss: 0.1432 - accuracy: 0.9546 - val_loss: 0.6916 - val_accuracy: 0.8129\n",
      "Epoch 8/10\n",
      "648/648 [==============================] - 20s 31ms/step - loss: 0.1385 - accuracy: 0.9568 - val_loss: 0.6919 - val_accuracy: 0.8233\n",
      "Epoch 9/10\n",
      "648/648 [==============================] - 20s 31ms/step - loss: 0.1307 - accuracy: 0.9596 - val_loss: 0.7370 - val_accuracy: 0.8174\n",
      "Epoch 10/10\n",
      "648/648 [==============================] - 20s 31ms/step - loss: 0.1273 - accuracy: 0.9593 - val_loss: 0.7242 - val_accuracy: 0.8176\n"
     ]
    }
   ],
   "source": [
    "hist_cnn = cnn_model.fit(\n",
    "    X_train, \n",
    "    y_train, \n",
    "    batch_size=128,\n",
    "    epochs=10,\n",
    "    validation_data=(X_val, y_val)\n",
    ")"
   ]
  },
  {
   "cell_type": "code",
   "execution_count": 20,
   "metadata": {},
   "outputs": [
    {
     "name": "stdout",
     "output_type": "stream",
     "text": [
      "821/821 [==============================] - 3s 4ms/step - loss: 0.6842 - accuracy: 0.8256\n"
     ]
    },
    {
     "data": {
      "text/plain": [
       "[0.6842448115348816, 0.8255836367607117]"
      ]
     },
     "execution_count": 20,
     "metadata": {},
     "output_type": "execute_result"
    }
   ],
   "source": [
    "cnn_model.evaluate(X_val, y_val)"
   ]
  },
  {
   "cell_type": "code",
   "execution_count": 22,
   "metadata": {},
   "outputs": [
    {
     "data": {
      "image/png": "[encoded data removed]",
      "text/plain": [
       "<Figure size 432x288 with 1 Axes>"
      ]
     },
     "metadata": {
      "needs_background": "light"
     },
     "output_type": "display_data"
    }
   ],
   "source": [
    "# summarize history for accuracy\n",
    "plt.plot(hist_cnn.history['accuracy'])\n",
    "plt.plot(hist_cnn.history['val_accuracy'])\n",
    "plt.title('CNN model accuracy')\n",
    "plt.ylabel('accuracy')\n",
    "plt.xlabel('epoch')\n",
    "plt.legend(['train', 'test'], loc='upper left')\n",
    "plt.show()"
   ]
  },
  {
   "cell_type": "code",
   "execution_count": 23,
   "metadata": {},
   "outputs": [
    {
     "data": {
      "image/png": "[encoded data removed]",
      "text/plain": [
       "<Figure size 432x288 with 1 Axes>"
      ]
     },
     "metadata": {
      "needs_background": "light"
     },
     "output_type": "display_data"
    }
   ],
   "source": [
    "# summarize history for loss\n",
    "plt.plot(hist_cnn.history['loss'])\n",
    "plt.plot(hist_cnn.history['val_loss'])\n",
    "plt.title('CNN model loss')\n",
    "plt.ylabel('loss')\n",
    "plt.xlabel('epoch')\n",
    "plt.legend(['train', 'test'], loc='upper left')\n",
    "plt.show()"
   ]
  }
 ],
 "metadata": {
  "kernelspec": {
   "display_name": "Python 3",
   "language": "python",
   "name": "python3"
  },
  "language_info": {
   "codemirror_mode": {
    "name": "ipython",
    "version": 3
   },
   "file_extension": ".py",
   "mimetype": "text/x-python",
   "name": "python",
   "nbconvert_exporter": "python",
   "pygments_lexer": "ipython3",
   "version": "3.8.3"
  }
 },
 "nbformat": 4,
 "nbformat_minor": 4
}
