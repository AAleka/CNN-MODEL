{
 "cells": [
  {
   "cell_type": "markdown",
   "metadata": {},
   "source": [
    "# Detecting arrythmia using Deep Leaning"
   ]
  },
  {
   "cell_type": "markdown",
   "metadata": {},
   "source": [
    "## Loading modules"
   ]
  },
  {
   "cell_type": "code",
   "execution_count": 17,
   "metadata": {},
   "outputs": [],
   "source": [
    "import pandas as pd\n",
    "import numpy as np\n",
    "import wfdb\n",
    "import tensorflow as tf\n",
    "from tensorflow import keras\n",
    "from sklearn.model_selection import train_test_split\n",
    "from sklearn.preprocessing import StandardScaler\n",
    "import matplotlib.pyplot as plt\n",
    "from pathlib import Path\n",
    "from tensorflow.keras import Sequential\n",
    "from tensorflow.keras.layers import Flatten, Conv1D, Dense, Dropout, TimeDistributed\n",
    "from tensorflow.keras.optimizers import Adam\n",
    "import warnings\n",
    "import matplotlib.pyplot as plt\n",
    "warnings.simplefilter(action='ignore', category=FutureWarning)"
   ]
  },
  {
   "cell_type": "code",
   "execution_count": 2,
   "metadata": {},
   "outputs": [
    {
     "name": "stdout",
     "output_type": "stream",
     "text": [
      "Num GPUs Available:  1\n"
     ]
    }
   ],
   "source": [
    "physical_devices = tf.config.experimental.list_physical_devices('GPU')\n",
    "print(\"Num GPUs Available: \", len(physical_devices))\n",
    "if len(physical_devices) > 0:\n",
    "    tf.config.experimental.set_memory_growth(physical_devices[0], True)"
   ]
  },
  {
   "cell_type": "markdown",
   "metadata": {},
   "source": [
    "## Download Dataset"
   ]
  },
  {
   "cell_type": "code",
   "execution_count": 3,
   "metadata": {},
   "outputs": [],
   "source": [
    "import wget\n",
    "import zipfile\n",
    "\n",
    "database_filename = \"mit-bih-arrhythmia-database-1.0.0.zip\"\n",
    "database_path = Path(database_filename)\n",
    "\n",
    "if not database_path.exists():\n",
    "    url = f'https://storage.googleapis.com/mitdb-1.0.0.physionet.org/{database_filename}'\n",
    "    wget.download(url)\n",
    "    with zipfile.ZipFile(database_filename, 'r') as zip_ref:\n",
    "        zip_ref.extractall(\".\")"
   ]
  },
  {
   "cell_type": "markdown",
   "metadata": {},
   "source": [
    "## Loading data"
   ]
  },
  {
   "cell_type": "markdown",
   "metadata": {},
   "source": [
    "Loading list of records available, from dataset available [here](https://physionet.org/content/mitdb/1.0.0/)"
   ]
  },
  {
   "cell_type": "code",
   "execution_count": 4,
   "metadata": {},
   "outputs": [],
   "source": [
    "records = np.loadtxt(\"mit-bih-arrhythmia-database-1.0.0/RECORDS\", dtype=int)"
   ]
  },
  {
   "cell_type": "markdown",
   "metadata": {},
   "source": [
    "Defining invalid beats as well as abnormal beats, according to [Physiobank](https://archive.physionet.org/physiobank/annotations.shtml)"
   ]
  },
  {
   "cell_type": "code",
   "execution_count": 5,
   "metadata": {},
   "outputs": [],
   "source": [
    "invalid_beat = [\n",
    "    \"[\", \"!\", \"]\", \"x\", \"(\", \")\", \"p\", \"t\", \n",
    "    \"u\", \"`\", \"'\", \"^\", \"|\", \"~\", \"+\", \"s\", \n",
    "    \"T\", \"*\", \"D\", \"=\", '\"', \"@\"\n",
    "]\n",
    "\n",
    "abnormal_beats = [\n",
    "    \"L\", \"R\", \"B\", \"A\", \"a\", \"J\", \"S\", \"V\", \n",
    "    \"r\", \"F\", \"e\", \"j\", \"n\", \"E\", \"/\", \"f\", \"Q\", \"?\"\n",
    "]"
   ]
  },
  {
   "cell_type": "markdown",
   "metadata": {},
   "source": [
    "## Processing dataset"
   ]
  },
  {
   "cell_type": "markdown",
   "metadata": {},
   "source": [
    "This function classify a beat according to its symbol and the list provided above."
   ]
  },
  {
   "cell_type": "code",
   "execution_count": 6,
   "metadata": {},
   "outputs": [],
   "source": [
    "def classify_beat(symbol):\n",
    "    if symbol in abnormal_beats:\n",
    "        return 1\n",
    "    elif symbol == \"N\" or symbol == \".\":\n",
    "        return 0    "
   ]
  },
  {
   "cell_type": "markdown",
   "metadata": {},
   "source": [
    "Given a signal, the beat location, and the window to be used as a sequence, this function gets the sequence. It will return an empty array in case of an invalid beat or empty sequence."
   ]
  },
  {
   "cell_type": "code",
   "execution_count": 7,
   "metadata": {},
   "outputs": [],
   "source": [
    "def get_sequence(signal, beat_loc, window_sec, fs):\n",
    "    window_one_side = window_sec * fs\n",
    "    beat_start = beat_loc - window_one_side\n",
    "    beat_end = beat_loc + window_one_side\n",
    "    if beat_end < signal.shape[0]:\n",
    "        sequence = signal[beat_start:beat_end, 0]\n",
    "        return sequence.reshape(1, -1, 1)\n",
    "    else:\n",
    "        return np.array([])"
   ]
  },
  {
   "cell_type": "markdown",
   "metadata": {},
   "source": [
    "The code below will build a list of labels and sequences as well as map the sequences for each patient. The percentage calculated represents the ratio of abnormal beats in each patient data."
   ]
  },
  {
   "cell_type": "code",
   "execution_count": 8,
   "metadata": {},
   "outputs": [],
   "source": [
    "all_sequences = []\n",
    "all_labels = []\n",
    "window_sec = 3\n",
    "subject_map = []\n",
    "for subject in records:\n",
    "    record = wfdb.rdrecord(f'mit-bih-arrhythmia-database-1.0.0/{subject}')\n",
    "    annotation = wfdb.rdann(f'mit-bih-arrhythmia-database-1.0.0/{subject}', 'atr')\n",
    "    atr_symbol = annotation.symbol\n",
    "    atr_sample = annotation.sample\n",
    "    fs = record.fs\n",
    "    scaler = StandardScaler()\n",
    "    signal = scaler.fit_transform(record.p_signal)\n",
    "    subject_labels = []\n",
    "    for i, i_sample in enumerate(atr_sample):\n",
    "        label = classify_beat(atr_symbol[i])\n",
    "        sequence = get_sequence(signal, i_sample, window_sec, fs)\n",
    "        if label is not None and sequence.size > 0:\n",
    "            all_sequences.append(sequence)\n",
    "            subject_labels.append(label)\n",
    "\n",
    "    normal_percentage = sum(subject_labels) / len(subject_labels)\n",
    "    subject_map.append({\n",
    "        \"subject\": subject,\n",
    "        \"percentage\": normal_percentage,\n",
    "        \"num_seq\": len(subject_labels),\n",
    "        \"start\": len(all_labels),\n",
    "        \"end\": len(all_labels)+len(subject_labels)\n",
    "    })\n",
    "    all_labels.extend(subject_labels)"
   ]
  },
  {
   "cell_type": "markdown",
   "metadata": {},
   "source": [
    "Creating bins to be used to stratify the train and validation split. "
   ]
  },
  {
   "cell_type": "code",
   "execution_count": 9,
   "metadata": {},
   "outputs": [
    {
     "name": "stdout",
     "output_type": "stream",
     "text": [
      "    subject  percentage  num_seq   start     end\n",
      "0       100    0.015018     2264       0    2264\n",
      "1       101    0.002691     1858    2264    4122\n",
      "2       102    0.954566     2179    4122    6301\n",
      "3       103    0.000962     2078    6301    8379\n",
      "4       104    0.926610     2221    8379   10600\n",
      "5       105    0.017941     2564   10600   13164\n",
      "6       106    0.256309     2021   13164   15185\n",
      "7       107    1.000000     2130   15185   17315\n",
      "8       108    0.013660     1757   17315   19072\n",
      "9       109    1.000000     2523   19072   21595\n",
      "10      111    1.000000     2118   21595   23713\n",
      "11      112    0.000790     2531   23713   26244\n",
      "12      113    0.003356     1788   26244   28032\n",
      "13      114    0.031500     1873   28032   29905\n",
      "14      115    0.000000     1946   29905   31851\n",
      "15      116    0.045757     2404   31851   34255\n",
      "16      117    0.000654     1529   34255   35784\n",
      "17      118    1.000000     2271   35784   38055\n",
      "18      119    0.223624     1981   38055   40036\n",
      "19      121    0.001078     1856   40036   41892\n",
      "20      122    0.000000     2467   41892   44359\n",
      "21      123    0.001984     1512   44359   45871\n",
      "22      124    1.000000     1614   45871   47485\n",
      "23      200    0.330120     2593   47485   50078\n",
      "24      201    0.172713     1957   50078   52035\n",
      "25      202    0.035211     2130   52035   54165\n",
      "26      203    0.151801     2971   54165   57136\n",
      "27      205    0.032100     2648   57136   59784\n",
      "28      207    1.000000     1851   59784   61635\n",
      "29      208    0.463001     2946   61635   64581\n",
      "30      209    0.128128     2997   64581   67578\n",
      "31      210    0.085227     2640   67578   70218\n",
      "32      212    0.664599     2740   70218   72958\n",
      "33      213    0.188330     3239   72958   76197\n",
      "34      214    1.000000     2254   76197   78451\n",
      "35      215    0.050104     3353   78451   81804\n",
      "36      217    0.889192     2202   81804   84006\n",
      "37      219    0.033520     2148   84006   86154\n",
      "38      220    0.046078     2040   86154   88194\n",
      "39      221    0.163291     2419   88194   90613\n",
      "40      222    0.170170     2474   90613   93087\n",
      "41      223    0.221794     2597   93087   95684\n",
      "42      228    0.177908     2046   95684   97730\n",
      "43      230    0.000445     2248   97730   99978\n",
      "44      231    0.799361     1565   99978  101543\n",
      "45      232    1.000000     1775  101543  103318\n",
      "46      233    0.275660     3069  103318  106387\n",
      "47      234    0.019308     2745  106387  109132\n"
     ]
    }
   ],
   "source": [
    "subject_map = pd.DataFrame(subject_map)\n",
    "print(subject_map)"
   ]
  },
  {
   "cell_type": "markdown",
   "metadata": {},
   "source": [
    "The code presented will create class in each patient is segmented."
   ]
  },
  {
   "cell_type": "code",
   "execution_count": 10,
   "metadata": {},
   "outputs": [],
   "source": [
    "bins = [0, 0.2, 0.6, 1.0]\n",
    "subject_map[\"bin\"] = pd.cut(subject_map['percentage'], bins=bins, labels=False, include_lowest=True)"
   ]
  },
  {
   "cell_type": "markdown",
   "metadata": {},
   "source": [
    "Now, the dataset is split into train and validation, stratifying by the bin defined above."
   ]
  },
  {
   "cell_type": "code",
   "execution_count": 11,
   "metadata": {},
   "outputs": [
    {
     "name": "stdout",
     "output_type": "stream",
     "text": [
      "    subject  percentage  num_seq   start     end  bin\n",
      "43      230    0.000445     2248   97730   99978    0\n",
      "42      228    0.177908     2046   95684   97730    0\n",
      "17      118    1.000000     2271   35784   38055    2\n",
      "8       108    0.013660     1757   17315   19072    0\n",
      "10      111    1.000000     2118   21595   23713    2\n",
      "6       106    0.256309     2021   13164   15185    1\n",
      "28      207    1.000000     1851   59784   61635    2\n",
      "14      115    0.000000     1946   29905   31851    0\n",
      "32      212    0.664599     2740   70218   72958    2\n",
      "37      219    0.033520     2148   84006   86154    0\n",
      "0       100    0.015018     2264       0    2264    0\n",
      "11      112    0.000790     2531   23713   26244    0\n",
      "15      116    0.045757     2404   31851   34255    0\n",
      "36      217    0.889192     2202   81804   84006    2\n",
      "2       102    0.954566     2179    4122    6301    2\n",
      "40      222    0.170170     2474   90613   93087    0\n",
      "46      233    0.275660     3069  103318  106387    1\n",
      "3       103    0.000962     2078    6301    8379    0\n",
      "9       109    1.000000     2523   19072   21595    2\n",
      "1       101    0.002691     1858    2264    4122    0\n",
      "45      232    1.000000     1775  101543  103318    2\n",
      "38      220    0.046078     2040   86154   88194    0\n",
      "34      214    1.000000     2254   76197   78451    2\n",
      "39      221    0.163291     2419   88194   90613    0\n",
      "26      203    0.151801     2971   54165   57136    0\n",
      "47      234    0.019308     2745  106387  109132    0\n",
      "19      121    0.001078     1856   40036   41892    0\n",
      "4       104    0.926610     2221    8379   10600    2\n",
      "5       105    0.017941     2564   10600   13164    0\n",
      "25      202    0.035211     2130   52035   54165    0\n",
      "35      215    0.050104     3353   78451   81804    0\n",
      "41      223    0.221794     2597   93087   95684    1\n",
      "20      122    0.000000     2467   41892   44359    0\n",
      "21      123    0.001984     1512   44359   45871    0\n",
      "23      200    0.330120     2593   47485   50078    1\n",
      "27      205    0.032100     2648   57136   59784    0\n",
      "    subject  percentage  num_seq  start     end  bin\n",
      "7       107    1.000000     2130  15185   17315    2\n",
      "44      231    0.799361     1565  99978  101543    2\n",
      "30      209    0.128128     2997  64581   67578    0\n",
      "33      213    0.188330     3239  72958   76197    0\n",
      "12      113    0.003356     1788  26244   28032    0\n",
      "22      124    1.000000     1614  45871   47485    2\n",
      "16      117    0.000654     1529  34255   35784    0\n",
      "24      201    0.172713     1957  50078   52035    0\n",
      "18      119    0.223624     1981  38055   40036    1\n",
      "31      210    0.085227     2640  67578   70218    0\n",
      "29      208    0.463001     2946  61635   64581    1\n",
      "13      114    0.031500     1873  28032   29905    0\n"
     ]
    }
   ],
   "source": [
    "train, validation = train_test_split(subject_map, test_size=0.25, stratify=subject_map[\"bin\"], random_state=42)\n",
    "print(train)\n",
    "print(validation)"
   ]
  },
  {
   "cell_type": "markdown",
   "metadata": {},
   "source": [
    "This function build a dataset based on the map for each split."
   ]
  },
  {
   "cell_type": "code",
   "execution_count": 12,
   "metadata": {},
   "outputs": [],
   "source": [
    "def build_dataset(df, all_sequences, all_labels):\n",
    "    sequences = []\n",
    "    labels = []\n",
    "    for i, row in df.iterrows():\n",
    "        start = int(row[\"start\"])\n",
    "        end = int(row[\"end\"])\n",
    "        sequences.extend(all_sequences[start:end])\n",
    "        labels.extend(all_labels[start:end])\n",
    "        \n",
    "    return np.vstack(sequences), np.vstack(labels)"
   ]
  },
  {
   "cell_type": "code",
   "execution_count": 13,
   "metadata": {},
   "outputs": [],
   "source": [
    "X_train, y_train = build_dataset(train, all_sequences, all_labels)\n",
    "X_val, y_val = build_dataset(validation, all_sequences, all_labels)"
   ]
  },
  {
   "cell_type": "code",
   "execution_count": 14,
   "metadata": {},
   "outputs": [
    {
     "data": {
      "text/plain": [
       "((82873, 2160, 1), (82873, 1))"
      ]
     },
     "execution_count": 14,
     "metadata": {},
     "output_type": "execute_result"
    }
   ],
   "source": [
    "X_train.shape, y_train.shape"
   ]
  },
  {
   "cell_type": "code",
   "execution_count": 15,
   "metadata": {},
   "outputs": [
    {
     "name": "stdout",
     "output_type": "stream",
     "text": [
      "[[[-0.60642197]\n",
      "  [-0.63462348]\n",
      "  [-0.64872424]\n",
      "  ...\n",
      "  [-0.47951519]\n",
      "  [-0.3244069 ]\n",
      "  [-0.31030615]]\n",
      "\n",
      " [[-0.95894081]\n",
      "  [-0.98714232]\n",
      "  [-1.01534383]\n",
      "  ...\n",
      "  [-2.83434104]\n",
      "  [-2.6933335 ]\n",
      "  [-2.2985124 ]]\n",
      "\n",
      " [[-0.98714232]\n",
      "  [-1.01534383]\n",
      "  [-1.07174684]\n",
      "  ...\n",
      "  [-0.6910265 ]\n",
      "  [-0.67692574]\n",
      "  [-0.78973177]]\n",
      "\n",
      " ...\n",
      "\n",
      " [[-0.45371176]\n",
      "  [-0.52993925]\n",
      "  [-0.50453009]\n",
      "  ...\n",
      "  [-0.47912092]\n",
      "  [-0.47912092]\n",
      "  [-0.52993925]]\n",
      "\n",
      " [[-0.32666593]\n",
      "  [-0.2758476 ]\n",
      "  [-0.32666593]\n",
      "  ...\n",
      "  [-0.37748426]\n",
      "  [-0.45371176]\n",
      "  [-0.45371176]]\n",
      "\n",
      " [[-0.47912092]\n",
      "  [-0.45371176]\n",
      "  [-0.42830259]\n",
      "  ...\n",
      "  [-0.14880178]\n",
      "  [-0.19962011]\n",
      "  [-0.25043844]]]\n"
     ]
    }
   ],
   "source": [
    "print(X_train)"
   ]
  },
  {
   "cell_type": "markdown",
   "metadata": {},
   "source": [
    "## Training the model"
   ]
  },
  {
   "cell_type": "markdown",
   "metadata": {},
   "source": [
    "### CNN model"
   ]
  },
  {
   "cell_type": "code",
   "execution_count": 18,
   "metadata": {},
   "outputs": [
    {
     "name": "stdout",
     "output_type": "stream",
     "text": [
      "Model: \"sequential\"\n",
      "_________________________________________________________________\n",
      "Layer (type)                 Output Shape              Param #   \n",
      "=================================================================\n",
      "conv1d_1 (Conv1D)            (None, 2160, 8)           40        \n",
      "_________________________________________________________________\n",
      "flatten (Flatten)            (None, 17280)             0         \n",
      "_________________________________________________________________\n",
      "dropout (Dropout)            (None, 17280)             0         \n",
      "_________________________________________________________________\n",
      "output (Dense)               (None, 1)                 17281     \n",
      "=================================================================\n",
      "Total params: 17,321\n",
      "Trainable params: 17,321\n",
      "Non-trainable params: 0\n",
      "_________________________________________________________________\n"
     ]
    }
   ],
   "source": [
    "sequence_size = X_train.shape[1]\n",
    "n_features = 1\n",
    "\n",
    "cnn_model = Sequential([\n",
    "    Conv1D(\n",
    "        filters=8,\n",
    "        kernel_size=4,\n",
    "        strides=1,\n",
    "        input_shape=(sequence_size, n_features),\n",
    "        padding=\"same\",\n",
    "        activation=\"relu\"\n",
    "    ),\n",
    "    Flatten(),\n",
    "    Dropout(0.5),\n",
    "    Dense(\n",
    "        1,\n",
    "        activation=\"sigmoid\",\n",
    "        name=\"output\",\n",
    "    )\n",
    "])\n",
    "\n",
    "optimizer = Adam(lr=0.001)\n",
    "# Compiling the model\n",
    "cnn_model.compile(\n",
    "    optimizer=optimizer,\n",
    "    loss=\"binary_crossentropy\",\n",
    "    metrics=[\"accuracy\"]\n",
    ")\n",
    "cnn_model.summary()"
   ]
  },
  {
   "cell_type": "code",
   "execution_count": 20,
   "metadata": {},
   "outputs": [
    {
     "name": "stdout",
     "output_type": "stream",
     "text": [
      "Epoch 1/10\n",
      "648/648 - 3s - loss: 0.1339 - accuracy: 0.9578 - val_loss: 0.7209 - val_accuracy: 0.8139\n",
      "Epoch 2/10\n",
      "648/648 - 3s - loss: 0.1336 - accuracy: 0.9575 - val_loss: 0.7148 - val_accuracy: 0.8136\n",
      "Epoch 3/10\n",
      "648/648 - 3s - loss: 0.1328 - accuracy: 0.9587 - val_loss: 0.7272 - val_accuracy: 0.8148\n",
      "Epoch 4/10\n",
      "648/648 - 3s - loss: 0.1319 - accuracy: 0.9588 - val_loss: 0.7732 - val_accuracy: 0.8086\n",
      "Epoch 5/10\n",
      "648/648 - 4s - loss: 0.1301 - accuracy: 0.9593 - val_loss: 0.7140 - val_accuracy: 0.8030\n",
      "Epoch 6/10\n",
      "648/648 - 3s - loss: 0.1323 - accuracy: 0.9582 - val_loss: 0.7218 - val_accuracy: 0.8120\n",
      "Epoch 7/10\n",
      "648/648 - 3s - loss: 0.1302 - accuracy: 0.9597 - val_loss: 0.6926 - val_accuracy: 0.8116\n",
      "Epoch 8/10\n",
      "648/648 - 3s - loss: 0.1278 - accuracy: 0.9600 - val_loss: 0.7146 - val_accuracy: 0.8128\n",
      "Epoch 9/10\n",
      "648/648 - 3s - loss: 0.1279 - accuracy: 0.9603 - val_loss: 0.7056 - val_accuracy: 0.8126\n",
      "Epoch 10/10\n",
      "648/648 - 3s - loss: 0.1273 - accuracy: 0.9599 - val_loss: 0.7506 - val_accuracy: 0.8099\n"
     ]
    }
   ],
   "source": [
    "hist_cnn = cnn_model.fit(\n",
    "    X_train, \n",
    "    y_train, \n",
    "    batch_size=128,\n",
    "    epochs=10,\n",
    "    validation_data=(X_val, y_val), \n",
    "    verbose = 2\n",
    ")"
   ]
  },
  {
   "cell_type": "code",
   "execution_count": 21,
   "metadata": {},
   "outputs": [
    {
     "name": "stdout",
     "output_type": "stream",
     "text": [
      "821/821 [==============================] - 2s 2ms/step - loss: 0.7506 - accuracy: 0.8099\n"
     ]
    },
    {
     "data": {
      "text/plain": [
       "[0.7506300210952759, 0.8099318146705627]"
      ]
     },
     "execution_count": 21,
     "metadata": {},
     "output_type": "execute_result"
    }
   ],
   "source": [
    "cnn_model.evaluate(X_val, y_val)"
   ]
  },
  {
   "cell_type": "code",
   "execution_count": 22,
   "metadata": {},
   "outputs": [
    {
     "data": {
      "image/png": "[encoded data removed]",
      "text/plain": [
       "<Figure size 432x288 with 1 Axes>"
      ]
     },
     "metadata": {
      "needs_background": "light"
     },
     "output_type": "display_data"
    }
   ],
   "source": [
    "# summarize history for accuracy\n",
    "plt.plot(hist_cnn.history['accuracy'])\n",
    "plt.plot(hist_cnn.history['val_accuracy'])\n",
    "plt.title('CNN model accuracy')\n",
    "plt.ylabel('accuracy')\n",
    "plt.xlabel('epoch')\n",
    "plt.legend(['train', 'test'], loc='upper left')\n",
    "plt.show()"
   ]
  },
  {
   "cell_type": "code",
   "execution_count": 23,
   "metadata": {},
   "outputs": [
    {
     "data": {
      "image/png": "[encoded data removed]",
      "text/plain": [
       "<Figure size 432x288 with 1 Axes>"
      ]
     },
     "metadata": {
      "needs_background": "light"
     },
     "output_type": "display_data"
    }
   ],
   "source": [
    "# summarize history for loss\n",
    "plt.plot(hist_cnn.history['loss'])\n",
    "plt.plot(hist_cnn.history['val_loss'])\n",
    "plt.title('CNN model loss')\n",
    "plt.ylabel('loss')\n",
    "plt.xlabel('epoch')\n",
    "plt.legend(['train', 'test'], loc='upper left')\n",
    "plt.show()"
   ]
  }
 ],
 "metadata": {
  "kernelspec": {
   "display_name": "Python 3",
   "language": "python",
   "name": "python3"
  },
  "language_info": {
   "codemirror_mode": {
    "name": "ipython",
    "version": 3
   },
   "file_extension": ".py",
   "mimetype": "text/x-python",
   "name": "python",
   "nbconvert_exporter": "python",
   "pygments_lexer": "ipython3",
   "version": "3.8.3"
  }
 },
 "nbformat": 4,
 "nbformat_minor": 4
}
