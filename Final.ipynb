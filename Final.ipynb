{
 "cells": [
  {
   "cell_type": "markdown",
   "metadata": {},
   "source": [
    "# Detecting arrythmia using Deep Leaning"
   ]
  },
  {
   "cell_type": "markdown",
   "metadata": {},
   "source": [
    "## Loading modules"
   ]
  },
  {
   "cell_type": "code",
   "execution_count": 1,
   "metadata": {},
   "outputs": [
    {
     "name": "stderr",
     "output_type": "stream",
     "text": [
      "C:\\Users\\mrall\\anaconda3\\lib\\site-packages\\numpy\\_distributor_init.py:30: UserWarning: loaded more than 1 DLL from .libs:\n",
      "C:\\Users\\mrall\\anaconda3\\lib\\site-packages\\numpy\\.libs\\libopenblas.PYQHXLVVQ7VESDPUVUADXEVJOBGHJPAY.gfortran-win_amd64.dll\n",
      "C:\\Users\\mrall\\anaconda3\\lib\\site-packages\\numpy\\.libs\\libopenblas.WCDJNK7YVMPZQ2ME2ZZHJJRJ3JIKNDB7.gfortran-win_amd64.dll\n",
      "  warnings.warn(\"loaded more than 1 DLL from .libs:\"\n"
     ]
    }
   ],
   "source": [
    "import pandas as pd\n",
    "import numpy as np\n",
    "import wfdb\n",
    "import tensorflow as tf\n",
    "from tensorflow import keras\n",
    "from sklearn.model_selection import train_test_split\n",
    "from sklearn.preprocessing import StandardScaler\n",
    "import matplotlib.pyplot as plt\n",
    "from pathlib import Path\n",
    "from tensorflow.keras import Sequential\n",
    "from tensorflow.keras import regularizers\n",
    "from tensorflow.keras.layers import Flatten, Conv1D, Dense, Dropout\n",
    "from tensorflow.keras.layers import BatchNormalization, MaxPooling1D\n",
    "from tensorflow.keras.layers import TimeDistributed, Input, GlobalAveragePooling1D\n",
    "from tensorflow.keras.layers import Activation\n",
    "from tensorflow.keras.models import Model\n",
    "from tensorflow.keras.optimizers import Adam\n",
    "import warnings\n",
    "import matplotlib.pyplot as plt\n",
    "warnings.simplefilter(action='ignore', category=FutureWarning)"
   ]
  },
  {
   "cell_type": "code",
   "execution_count": 2,
   "metadata": {
    "scrolled": true
   },
   "outputs": [],
   "source": [
    "gpu_options = tf.compat.v1.GPUOptions(per_process_gpu_memory_fraction=0.6)\n",
    "sess = tf.compat.v1.Session(config=tf.compat.v1.ConfigProto(gpu_options=gpu_options))"
   ]
  },
  {
   "cell_type": "markdown",
   "metadata": {},
   "source": [
    "## Download Dataset"
   ]
  },
  {
   "cell_type": "code",
   "execution_count": 3,
   "metadata": {},
   "outputs": [],
   "source": [
    "import wget\n",
    "import zipfile\n",
    "\n",
    "database_filename = \"mit-bih-arrhythmia-database-1.0.0.zip\"\n",
    "database_path = Path(database_filename)\n",
    "\n",
    "if not database_path.exists():\n",
    "    url = f'https://storage.googleapis.com/mitdb-1.0.0.physionet.org/{database_filename}'\n",
    "    wget.download(url)\n",
    "    with zipfile.ZipFile(database_filename, 'r') as zip_ref:\n",
    "        zip_ref.extractall(\".\")"
   ]
  },
  {
   "cell_type": "markdown",
   "metadata": {},
   "source": [
    "## Loading data"
   ]
  },
  {
   "cell_type": "code",
   "execution_count": 4,
   "metadata": {},
   "outputs": [],
   "source": [
    "records = np.loadtxt(\"mit-bih-arrhythmia-database-1.0.0/RECORDS\", dtype=int)"
   ]
  },
  {
   "cell_type": "code",
   "execution_count": 5,
   "metadata": {},
   "outputs": [
    {
     "name": "stdout",
     "output_type": "stream",
     "text": [
      "    label_store symbol                                    description\n",
      "0             0                              Not an actual annotation\n",
      "1             1      N                                    Normal beat\n",
      "2             2      L                  Left bundle branch block beat\n",
      "3             3      R                 Right bundle branch block beat\n",
      "4             4      a                Aberrated atrial premature beat\n",
      "5             5      V              Premature ventricular contraction\n",
      "6             6      F          Fusion of ventricular and normal beat\n",
      "7             7      J              Nodal (junctional) premature beat\n",
      "8             8      A                   Atrial premature contraction\n",
      "9             9      S     Premature or ectopic supraventricular beat\n",
      "10           10      E                        Ventricular escape beat\n",
      "11           11      j                 Nodal (junctional) escape beat\n",
      "12           12      /                                     Paced beat\n",
      "13           13      Q                            Unclassifiable beat\n",
      "14           14      ~                          Signal quality change\n",
      "16           16      |                     Isolated QRS-like artifact\n",
      "18           18      s                                      ST change\n",
      "19           19      T                                  T-wave change\n",
      "20           20      *                                        Systole\n",
      "21           21      D                                       Diastole\n",
      "22           22      \"                             Comment annotation\n",
      "23           23      =                         Measurement annotation\n",
      "24           24      p                                    P-wave peak\n",
      "25           25      B              Left or right bundle branch block\n",
      "26           26      ^                      Non-conducted pacer spike\n",
      "27           27      t                                    T-wave peak\n",
      "28           28      +                                  Rhythm change\n",
      "29           29      u                                    U-wave peak\n",
      "30           30      ?                                       Learning\n",
      "31           31      !                       Ventricular flutter wave\n",
      "32           32      [      Start of ventricular flutter/fibrillation\n",
      "33           33      ]        End of ventricular flutter/fibrillation\n",
      "34           34      e                             Atrial escape beat\n",
      "35           35      n                   Supraventricular escape beat\n",
      "36           36      @  Link to external data (aux_note contains URL)\n",
      "37           37      x             Non-conducted P-wave (blocked APB)\n",
      "38           38      f                Fusion of paced and normal beat\n",
      "39           39      (                                 Waveform onset\n",
      "40           40      )                                   Waveform end\n",
      "41           41      r       R-on-T premature ventricular contraction\n"
     ]
    }
   ],
   "source": [
    "wfdb.show_ann_labels()"
   ]
  },
  {
   "cell_type": "code",
   "execution_count": 6,
   "metadata": {},
   "outputs": [],
   "source": [
    "invalid_beat = [\n",
    "    \"[\", \"]\", \"x\", \"(\", \")\", \"p\", \"t\", \n",
    "    \"u\", \"`\", \"'\", \"^\", \"|\", \"~\", \"+\",\n",
    "    \"*\", \"D\", \"=\", '\"', \"@\", \"?\", \"r\", \n",
    "    \"!\", \"T\", \"s\"\n",
    "]\n",
    "\n",
    "normal_rhythms = [\"N\", \"/\"]                     # Normal beats, Paced beats\n",
    "\n",
    "block_beats = [\"L\", \"R\", \"B\"]                   # Left, Right, Left or Right bundle \n",
    "                                                # branch block beats\n",
    "\n",
    "escape_rhythms = [\"e\", \"j\", \"V\", \"E\", \"n\", \"S\"] # Atrial escape beat, Junctional escape\n",
    "                                                # beat, Premature ventricular\n",
    "                                                # contraction, Ventricular escape beat,\n",
    "                                                # Supraventricular escape beat, Premature \n",
    "                                                # or ectopic supraventricular beat\n",
    "                \n",
    "premature_beats = [\"a\", \"J\", \"A\"]               # Aberrated atrial premature beat,\n",
    "                                                # Junctional premature beat,  \n",
    "                                                # Atrial premature contraction\n",
    "        \n",
    "fusion_beats = [\"F\"]                            # Fusion of ventricular and normal beat\n",
    "\n",
    "unknown_beats = [\"f\", \"Q\"]                      # Fusion of paced and normal beat, \n",
    "                                                # Unclassifiable beat"
   ]
  },
  {
   "cell_type": "markdown",
   "metadata": {},
   "source": [
    "## Processing dataset"
   ]
  },
  {
   "cell_type": "code",
   "execution_count": 7,
   "metadata": {},
   "outputs": [],
   "source": [
    "def classify_beat(symbol):\n",
    "    if symbol in normal_rhythms:\n",
    "        return [1, 0, 0, 0, 0, 0]\n",
    "    elif symbol in block_beats:\n",
    "        return [0, 1, 0, 0, 0, 0]\n",
    "    elif symbol in escape_rhythms:\n",
    "        return [0, 0, 1, 0, 0, 0]\n",
    "    elif symbol in premature_beats:\n",
    "        return [0, 0, 0, 1, 0, 0]\n",
    "    elif symbol in fusion_beats:\n",
    "        return [0, 0, 0, 0, 1, 0]\n",
    "    elif symbol in unknown_beats:\n",
    "        return [0, 0, 0, 0, 0, 1] "
   ]
  },
  {
   "cell_type": "code",
   "execution_count": 8,
   "metadata": {},
   "outputs": [],
   "source": [
    "def get_sequence(signal, beat_loc, window_sec, fs):\n",
    "    window_one_side = window_sec * fs\n",
    "    beat_start = beat_loc - window_one_side\n",
    "    beat_end = beat_loc + window_one_side\n",
    "    if beat_end < signal.shape[0]:\n",
    "        sequence = signal[beat_start:beat_end, 0]\n",
    "        return sequence.reshape(1, -1, 1)\n",
    "    else:\n",
    "        return np.array([])"
   ]
  },
  {
   "cell_type": "code",
   "execution_count": 9,
   "metadata": {},
   "outputs": [],
   "source": [
    "all_sequences = []\n",
    "all_labels = []\n",
    "window_sec = 3\n",
    "subject_map = []\n",
    "i = 0\n",
    "\n",
    "for subject in records:\n",
    "    record = wfdb.rdrecord(f'mit-bih-arrhythmia-database-1.0.0/{subject}')\n",
    "    annotation = wfdb.rdann(f'mit-bih-arrhythmia-database-1.0.0/{subject}', 'atr')\n",
    "    atr_symbol = annotation.symbol\n",
    "    atr_sample = annotation.sample\n",
    "    fs = record.fs\n",
    "    scaler = StandardScaler()\n",
    "    signal = scaler.fit_transform(record.p_signal)\n",
    "    subject_labels = []\n",
    "    for i, i_sample in enumerate(atr_sample):\n",
    "        labels = classify_beat(atr_symbol[i])\n",
    "        sequence = get_sequence(signal, i_sample, window_sec, fs)\n",
    "        if labels is not None and sequence.size > 0:\n",
    "            all_sequences.append(sequence)\n",
    "            subject_labels.append(labels)\n",
    "\n",
    "    subject_map.append({\n",
    "        \"subject\": subject,\n",
    "        \"num_seq\": len(subject_labels),\n",
    "        \"start\": len(all_labels),\n",
    "        \"end\": len(all_labels)+len(subject_labels)\n",
    "    })\n",
    "    all_labels.extend(subject_labels)"
   ]
  },
  {
   "cell_type": "code",
   "execution_count": 10,
   "metadata": {},
   "outputs": [],
   "source": [
    "subject_map = pd.DataFrame(subject_map)"
   ]
  },
  {
   "cell_type": "code",
   "execution_count": 11,
   "metadata": {},
   "outputs": [],
   "source": [
    "train, test = train_test_split(subject_map, test_size=0.25, random_state=16)"
   ]
  },
  {
   "cell_type": "code",
   "execution_count": 12,
   "metadata": {},
   "outputs": [],
   "source": [
    "def build_dataset(df, all_sequences, all_labels):\n",
    "    sequences = []\n",
    "    labels = []\n",
    "    for i, row in df.iterrows():\n",
    "        start = int(row[\"start\"])\n",
    "        end = int(row[\"end\"])\n",
    "        sequences.extend(all_sequences[start:end])\n",
    "        labels.extend(all_labels[start:end])\n",
    "        \n",
    "    return np.vstack(sequences), np.vstack(labels)"
   ]
  },
  {
   "cell_type": "code",
   "execution_count": 13,
   "metadata": {},
   "outputs": [],
   "source": [
    "x_train, y_train = build_dataset(train, all_sequences, all_labels)\n",
    "x_test, y_test   = build_dataset(test, all_sequences, all_labels)"
   ]
  },
  {
   "cell_type": "code",
   "execution_count": 14,
   "metadata": {},
   "outputs": [],
   "source": [
    "def get_labels(data):\n",
    "    labels = []\n",
    "    for i in data:\n",
    "        if i[0] == 1:\n",
    "            labels.append(\"Normal\")\n",
    "        elif i[1] == 1:\n",
    "            labels.append(\"Block beats\")\n",
    "        elif i[2] == 1:\n",
    "            labels.append(\"Escape rhythms\")\n",
    "        elif i[3] == 1:\n",
    "            labels.append(\"Premature beats\")\n",
    "        elif i[4] == 1:\n",
    "            labels.append(\"Fusion beats\")\n",
    "        elif i[5] == 1:\n",
    "            labels.append(\"Unknown beats\")\n",
    "            \n",
    "    return labels"
   ]
  },
  {
   "cell_type": "code",
   "execution_count": 15,
   "metadata": {},
   "outputs": [],
   "source": [
    "def get_counts(labels):\n",
    "    (unique, counts) = np.unique(labels, return_counts=True)\n",
    "    frequencies = np.asarray((unique, np.round(counts*100 / (len(y_train) + len(y_test)), 2))).T\n",
    "    return frequencies"
   ]
  },
  {
   "cell_type": "code",
   "execution_count": 16,
   "metadata": {},
   "outputs": [
    {
     "name": "stdout",
     "output_type": "stream",
     "text": [
      "Train labels:\n",
      "[['Block beats' '12.18']\n",
      " ['Escape rhythms' '4.95']\n",
      " ['Fusion beats' '0.39']\n",
      " ['Normal' '52.51']\n",
      " ['Premature beats' '2.34']\n",
      " ['Unknown beats' '0.93']]\n",
      "\n",
      "Test labels\n",
      "[['Block beats' '1.83']\n",
      " ['Escape rhythms' '1.89']\n",
      " ['Fusion beats' '0.35']\n",
      " ['Normal' '22.44']\n",
      " ['Premature beats' '0.2']\n",
      " ['Unknown beats' '0.0']]\n"
     ]
    }
   ],
   "source": [
    "train_labels = get_labels(y_train)\n",
    "test_labels = get_labels(y_test)\n",
    "\n",
    "print(f\"Train labels:\\n{get_counts(train_labels)}\", f\"Test labels\\n{get_counts(test_labels)}\", sep=\"\\n\\n\")"
   ]
  },
  {
   "cell_type": "markdown",
   "metadata": {},
   "source": [
    "# Training the model"
   ]
  },
  {
   "cell_type": "code",
   "execution_count": 35,
   "metadata": {},
   "outputs": [
    {
     "name": "stdout",
     "output_type": "stream",
     "text": [
      "Model: \"sequential_6\"\n",
      "_________________________________________________________________\n",
      "Layer (type)                 Output Shape              Param #   \n",
      "=================================================================\n",
      "conv1d_28 (Conv1D)           (None, 2141, 8)           168       \n",
      "_________________________________________________________________\n",
      "batch_normalization_35 (Batc (None, 2141, 8)           32        \n",
      "_________________________________________________________________\n",
      "dropout_38 (Dropout)         (None, 2141, 8)           0         \n",
      "_________________________________________________________________\n",
      "conv1d_29 (Conv1D)           (None, 2122, 8)           1288      \n",
      "_________________________________________________________________\n",
      "batch_normalization_36 (Batc (None, 2122, 8)           32        \n",
      "_________________________________________________________________\n",
      "dropout_39 (Dropout)         (None, 2122, 8)           0         \n",
      "_________________________________________________________________\n",
      "conv1d_30 (Conv1D)           (None, 2103, 8)           1288      \n",
      "_________________________________________________________________\n",
      "batch_normalization_37 (Batc (None, 2103, 8)           32        \n",
      "_________________________________________________________________\n",
      "dropout_40 (Dropout)         (None, 2103, 8)           0         \n",
      "_________________________________________________________________\n",
      "conv1d_31 (Conv1D)           (None, 2084, 8)           1288      \n",
      "_________________________________________________________________\n",
      "batch_normalization_38 (Batc (None, 2084, 8)           32        \n",
      "_________________________________________________________________\n",
      "dropout_41 (Dropout)         (None, 2084, 8)           0         \n",
      "_________________________________________________________________\n",
      "conv1d_32 (Conv1D)           (None, 2065, 8)           1288      \n",
      "_________________________________________________________________\n",
      "max_pooling1d_21 (MaxPooling (None, 1032, 8)           0         \n",
      "_________________________________________________________________\n",
      "batch_normalization_39 (Batc (None, 1032, 8)           32        \n",
      "_________________________________________________________________\n",
      "dropout_42 (Dropout)         (None, 1032, 8)           0         \n",
      "_________________________________________________________________\n",
      "conv1d_33 (Conv1D)           (None, 1013, 16)          2576      \n",
      "_________________________________________________________________\n",
      "batch_normalization_40 (Batc (None, 1013, 16)          64        \n",
      "_________________________________________________________________\n",
      "dropout_43 (Dropout)         (None, 1013, 16)          0         \n",
      "_________________________________________________________________\n",
      "conv1d_34 (Conv1D)           (None, 994, 16)           5136      \n",
      "_________________________________________________________________\n",
      "batch_normalization_41 (Batc (None, 994, 16)           64        \n",
      "_________________________________________________________________\n",
      "dropout_44 (Dropout)         (None, 994, 16)           0         \n",
      "_________________________________________________________________\n",
      "conv1d_35 (Conv1D)           (None, 975, 16)           5136      \n",
      "_________________________________________________________________\n",
      "batch_normalization_42 (Batc (None, 975, 16)           64        \n",
      "_________________________________________________________________\n",
      "dropout_45 (Dropout)         (None, 975, 16)           0         \n",
      "_________________________________________________________________\n",
      "conv1d_36 (Conv1D)           (None, 956, 16)           5136      \n",
      "_________________________________________________________________\n",
      "max_pooling1d_22 (MaxPooling (None, 478, 16)           0         \n",
      "_________________________________________________________________\n",
      "flatten_6 (Flatten)          (None, 7648)              0         \n",
      "_________________________________________________________________\n",
      "dense_13 (Dense)             (None, 16)                122384    \n",
      "_________________________________________________________________\n",
      "batch_normalization_43 (Batc (None, 16)                64        \n",
      "_________________________________________________________________\n",
      "dropout_46 (Dropout)         (None, 16)                0         \n",
      "_________________________________________________________________\n",
      "dense_14 (Dense)             (None, 8)                 136       \n",
      "_________________________________________________________________\n",
      "dropout_47 (Dropout)         (None, 8)                 0         \n",
      "_________________________________________________________________\n",
      "output (Dense)               (None, 6)                 54        \n",
      "=================================================================\n",
      "Total params: 146,294\n",
      "Trainable params: 146,086\n",
      "Non-trainable params: 208\n",
      "_________________________________________________________________\n"
     ]
    }
   ],
   "source": [
    "sequence_size = x_train.shape[1]\n",
    "n_features = 1\n",
    "callback = tf.keras.callbacks.EarlyStopping(monitor='val_loss', patience=7, restore_best_weights=True)\n",
    "\n",
    "model = Sequential()\n",
    "\n",
    "model.add(Conv1D(8, 20, activation=\"relu\", input_shape=(sequence_size, n_features), kernel_regularizer=regularizers.l2(0.07)))\n",
    "\n",
    "model.add(BatchNormalization())\n",
    "model.add(Dropout(0.4))\n",
    "model.add(Conv1D(8, 20, activation=\"relu\", kernel_regularizer=regularizers.l2(0.07)))\n",
    "\n",
    "model.add(BatchNormalization())\n",
    "model.add(Dropout(0.4))\n",
    "model.add(Conv1D(8, 20, activation=\"relu\", kernel_regularizer=regularizers.l2(0.07)))\n",
    "\n",
    "model.add(BatchNormalization())\n",
    "model.add(Dropout(0.4))\n",
    "model.add(Conv1D(8, 20, activation=\"relu\", kernel_regularizer=regularizers.l2(0.07)))\n",
    "\n",
    "model.add(BatchNormalization())\n",
    "model.add(Dropout(0.4))\n",
    "model.add(Conv1D(8, 20, activation=\"relu\", kernel_regularizer=regularizers.l2(0.07)))\n",
    "model.add(MaxPooling1D(pool_size=2))\n",
    "\n",
    "model.add(BatchNormalization())\n",
    "model.add(Dropout(0.4))\n",
    "model.add(Conv1D(16, 20, activation=\"relu\", kernel_regularizer=regularizers.l2(0.07)))\n",
    "\n",
    "model.add(BatchNormalization())\n",
    "model.add(Dropout(0.4))\n",
    "model.add(Conv1D(16, 20, activation=\"relu\", kernel_regularizer=regularizers.l2(0.07)))\n",
    "\n",
    "model.add(BatchNormalization())\n",
    "model.add(Dropout(0.4))\n",
    "model.add(Conv1D(16, 20, activation=\"relu\", kernel_regularizer=regularizers.l2(0.07)))\n",
    "\n",
    "model.add(BatchNormalization())\n",
    "model.add(Dropout(0.4))\n",
    "model.add(Conv1D(16, 20, activation=\"relu\", kernel_regularizer=regularizers.l2(0.07)))\n",
    "model.add(MaxPooling1D(pool_size=2))\n",
    "\n",
    "model.add(Flatten())\n",
    "model.add(Dense(16, activation=\"relu\", kernel_regularizer=regularizers.l2(0.07)))\n",
    "\n",
    "model.add(BatchNormalization())\n",
    "model.add(Dropout(0.4))\n",
    "model.add(Dense(8, activation=\"relu\", kernel_regularizer=regularizers.l2(0.07)))\n",
    "\n",
    "model.add(Dropout(0.5))\n",
    "model.add(Dense(6, activation=\"softmax\", name=\"output\"))\n",
    "\n",
    "optimizer = Adam(lr=0.00007)\n",
    "\n",
    "\n",
    "model.compile(\n",
    "    optimizer=optimizer,\n",
    "    loss=\"categorical_crossentropy\",\n",
    "    metrics=[\"accuracy\"]\n",
    ")\n",
    "    \n",
    "model.summary()"
   ]
  },
  {
   "cell_type": "code",
   "execution_count": 36,
   "metadata": {},
   "outputs": [
    {
     "name": "stdout",
     "output_type": "stream",
     "text": [
      "Epoch 1/100\n",
      "500/500 - 32s - loss: 10.5947 - accuracy: 0.3014 - val_loss: 9.2127 - val_accuracy: 0.8509\n",
      "Epoch 2/100\n",
      "500/500 - 26s - loss: 8.3591 - accuracy: 0.4236 - val_loss: 7.1827 - val_accuracy: 0.8509\n",
      "Epoch 3/100\n",
      "500/500 - 26s - loss: 6.3864 - accuracy: 0.5355 - val_loss: 5.5023 - val_accuracy: 0.8509\n",
      "Epoch 4/100\n",
      "500/500 - 26s - loss: 4.7599 - accuracy: 0.6443 - val_loss: 3.9849 - val_accuracy: 0.8508\n",
      "Epoch 5/100\n",
      "500/500 - 27s - loss: 3.4966 - accuracy: 0.7194 - val_loss: 2.7676 - val_accuracy: 0.8509\n",
      "Epoch 6/100\n",
      "500/500 - 27s - loss: 2.5910 - accuracy: 0.7643 - val_loss: 2.0910 - val_accuracy: 0.8499\n",
      "Epoch 7/100\n",
      "500/500 - 27s - loss: 1.9423 - accuracy: 0.8042 - val_loss: 1.5817 - val_accuracy: 0.8498\n",
      "Epoch 8/100\n",
      "500/500 - 27s - loss: 1.4938 - accuracy: 0.8339 - val_loss: 1.2951 - val_accuracy: 0.8492\n",
      "Epoch 9/100\n",
      "500/500 - 27s - loss: 1.1934 - accuracy: 0.8481 - val_loss: 1.0614 - val_accuracy: 0.8476\n",
      "Epoch 10/100\n",
      "500/500 - 26s - loss: 0.9931 - accuracy: 0.8587 - val_loss: 0.8755 - val_accuracy: 0.8482\n",
      "Epoch 11/100\n",
      "500/500 - 26s - loss: 0.8479 - accuracy: 0.8688 - val_loss: 0.7959 - val_accuracy: 0.8421\n",
      "Epoch 12/100\n",
      "500/500 - 27s - loss: 0.7548 - accuracy: 0.8714 - val_loss: 0.8052 - val_accuracy: 0.8169\n",
      "Epoch 13/100\n",
      "500/500 - 26s - loss: 0.6837 - accuracy: 0.8727 - val_loss: 0.7054 - val_accuracy: 0.8388\n",
      "Epoch 14/100\n",
      "500/500 - 27s - loss: 0.6264 - accuracy: 0.8740 - val_loss: 0.6337 - val_accuracy: 0.8356\n",
      "Epoch 15/100\n",
      "500/500 - 26s - loss: 0.5914 - accuracy: 0.8738 - val_loss: 0.6398 - val_accuracy: 0.8461\n",
      "Epoch 16/100\n",
      "500/500 - 26s - loss: 0.5575 - accuracy: 0.8737 - val_loss: 0.6768 - val_accuracy: 0.8183\n",
      "Epoch 17/100\n",
      "500/500 - 26s - loss: 0.5352 - accuracy: 0.8734 - val_loss: 0.5581 - val_accuracy: 0.8467\n",
      "Epoch 18/100\n",
      "500/500 - 26s - loss: 0.5162 - accuracy: 0.8739 - val_loss: 0.5872 - val_accuracy: 0.8411\n",
      "Epoch 19/100\n",
      "500/500 - 26s - loss: 0.4998 - accuracy: 0.8734 - val_loss: 0.5801 - val_accuracy: 0.8471\n",
      "Epoch 20/100\n",
      "500/500 - 26s - loss: 0.4872 - accuracy: 0.8738 - val_loss: 0.6709 - val_accuracy: 0.8493\n",
      "Epoch 21/100\n",
      "500/500 - 26s - loss: 0.4734 - accuracy: 0.8766 - val_loss: 0.5345 - val_accuracy: 0.8983\n",
      "Epoch 22/100\n",
      "500/500 - 26s - loss: 0.4616 - accuracy: 0.8837 - val_loss: 0.5929 - val_accuracy: 0.9099\n",
      "Epoch 23/100\n",
      "500/500 - 26s - loss: 0.4549 - accuracy: 0.8824 - val_loss: 0.5405 - val_accuracy: 0.9041\n",
      "Epoch 24/100\n",
      "500/500 - 26s - loss: 0.4450 - accuracy: 0.8822 - val_loss: 0.5556 - val_accuracy: 0.9050\n",
      "Epoch 25/100\n",
      "500/500 - 26s - loss: 0.4395 - accuracy: 0.8831 - val_loss: 0.5757 - val_accuracy: 0.9082\n",
      "Epoch 26/100\n",
      "500/500 - 27s - loss: 0.4320 - accuracy: 0.8836 - val_loss: 0.5314 - val_accuracy: 0.9095\n",
      "Epoch 27/100\n",
      "500/500 - 26s - loss: 0.4251 - accuracy: 0.8842 - val_loss: 0.6328 - val_accuracy: 0.8791\n",
      "Epoch 28/100\n",
      "500/500 - 26s - loss: 0.4202 - accuracy: 0.8844 - val_loss: 0.5612 - val_accuracy: 0.9064\n",
      "Epoch 29/100\n",
      "500/500 - 26s - loss: 0.4186 - accuracy: 0.8832 - val_loss: 0.5129 - val_accuracy: 0.9061\n",
      "Epoch 30/100\n",
      "500/500 - 26s - loss: 0.4118 - accuracy: 0.8838 - val_loss: 0.5720 - val_accuracy: 0.8814\n",
      "Epoch 31/100\n",
      "500/500 - 26s - loss: 0.4075 - accuracy: 0.8843 - val_loss: 0.5523 - val_accuracy: 0.9059\n",
      "Epoch 32/100\n",
      "500/500 - 26s - loss: 0.4060 - accuracy: 0.8836 - val_loss: 0.5643 - val_accuracy: 0.8917\n",
      "Epoch 33/100\n",
      "500/500 - 26s - loss: 0.4022 - accuracy: 0.8841 - val_loss: 0.5283 - val_accuracy: 0.8937\n",
      "Epoch 34/100\n",
      "500/500 - 27s - loss: 0.4019 - accuracy: 0.8842 - val_loss: 0.5881 - val_accuracy: 0.8992\n",
      "Epoch 35/100\n",
      "500/500 - 26s - loss: 0.3977 - accuracy: 0.8845 - val_loss: 0.5375 - val_accuracy: 0.8859\n",
      "Epoch 36/100\n",
      "500/500 - 26s - loss: 0.3915 - accuracy: 0.8859 - val_loss: 0.4940 - val_accuracy: 0.9137\n",
      "Epoch 37/100\n",
      "500/500 - 26s - loss: 0.3909 - accuracy: 0.8846 - val_loss: 0.4605 - val_accuracy: 0.9110\n",
      "Epoch 38/100\n",
      "500/500 - 26s - loss: 0.3874 - accuracy: 0.8847 - val_loss: 0.5158 - val_accuracy: 0.9087\n",
      "Epoch 39/100\n",
      "500/500 - 26s - loss: 0.3845 - accuracy: 0.8852 - val_loss: 0.5770 - val_accuracy: 0.8957\n",
      "Epoch 40/100\n",
      "500/500 - 26s - loss: 0.3833 - accuracy: 0.8855 - val_loss: 0.5301 - val_accuracy: 0.9034\n",
      "Epoch 41/100\n",
      "500/500 - 27s - loss: 0.3822 - accuracy: 0.8859 - val_loss: 0.7677 - val_accuracy: 0.8064\n",
      "Epoch 42/100\n",
      "500/500 - 27s - loss: 0.3801 - accuracy: 0.8850 - val_loss: 0.4842 - val_accuracy: 0.9073\n",
      "Epoch 43/100\n",
      "500/500 - 27s - loss: 0.3782 - accuracy: 0.8865 - val_loss: 0.4583 - val_accuracy: 0.9121\n",
      "Epoch 44/100\n",
      "500/500 - 27s - loss: 0.3762 - accuracy: 0.8856 - val_loss: 0.5589 - val_accuracy: 0.9008\n",
      "Epoch 45/100\n",
      "500/500 - 26s - loss: 0.3766 - accuracy: 0.8843 - val_loss: 0.4988 - val_accuracy: 0.9111\n",
      "Epoch 46/100\n",
      "500/500 - 27s - loss: 0.3727 - accuracy: 0.8853 - val_loss: 0.5494 - val_accuracy: 0.8952\n",
      "Epoch 47/100\n",
      "500/500 - 26s - loss: 0.3701 - accuracy: 0.8864 - val_loss: 0.5360 - val_accuracy: 0.9076\n",
      "Epoch 48/100\n",
      "500/500 - 26s - loss: 0.3720 - accuracy: 0.8854 - val_loss: 0.5387 - val_accuracy: 0.9101\n",
      "Epoch 49/100\n",
      "500/500 - 26s - loss: 0.3706 - accuracy: 0.8845 - val_loss: 0.5470 - val_accuracy: 0.9024\n",
      "Epoch 50/100\n",
      "500/500 - 26s - loss: 0.3681 - accuracy: 0.8856 - val_loss: 0.5755 - val_accuracy: 0.8901\n"
     ]
    }
   ],
   "source": [
    "hist_cnn = model.fit(x_train, y_train, batch_size=128, epochs=100, validation_split=0.2, callbacks=[callback], verbose = 2)"
   ]
  },
  {
   "cell_type": "code",
   "execution_count": 37,
   "metadata": {},
   "outputs": [
    {
     "name": "stdout",
     "output_type": "stream",
     "text": [
      "911/911 [==============================] - 8s 8ms/step - loss: 0.4168 - accuracy: 0.9027\n",
      "\n",
      "\n",
      "\n"
     ]
    },
    {
     "data": {
      "image/png": "[encoded data removed]",
      "text/plain": [
       "<Figure size 432x288 with 1 Axes>"
      ]
     },
     "metadata": {
      "needs_background": "light"
     },
     "output_type": "display_data"
    },
    {
     "name": "stdout",
     "output_type": "stream",
     "text": [
      "\n",
      "\n",
      "\n"
     ]
    },
    {
     "data": {
      "image/png": "[encoded data removed]",
      "text/plain": [
       "<Figure size 432x288 with 1 Axes>"
      ]
     },
     "metadata": {
      "needs_background": "light"
     },
     "output_type": "display_data"
    }
   ],
   "source": [
    "model.evaluate(x_test, y_test)\n",
    "print(\"\\n\\n\")\n",
    "\n",
    "# summarize history for accuracy\n",
    "plt.plot(hist_cnn.history['accuracy'])\n",
    "plt.plot(hist_cnn.history['val_accuracy'])\n",
    "plt.title('CNN model accuracy')\n",
    "plt.ylabel('accuracy')\n",
    "plt.xlabel('epoch')\n",
    "plt.legend(['train', 'validation'], loc='upper left')\n",
    "plt.show()\n",
    "print(\"\\n\\n\")\n",
    "\n",
    "# summarize history for loss   \n",
    "plt.plot(hist_cnn.history['loss'])\n",
    "plt.plot(hist_cnn.history['val_loss'])\n",
    "plt.title('CNN model loss')\n",
    "plt.ylabel('loss')\n",
    "plt.xlabel('epoch')\n",
    "plt.legend(['train', 'validation'], loc='upper left')\n",
    "plt.show()"
   ]
  },
  {
   "cell_type": "markdown",
   "metadata": {},
   "source": [
    "# Model saving"
   ]
  },
  {
   "cell_type": "code",
   "execution_count": null,
   "metadata": {},
   "outputs": [],
   "source": [
    "import os\n",
    "os.remove(\"C:\\\\Users\\\\mrall\\\\Desktop\\\\Thesis\\\\Experiments\\\\Models\\\\Model.h5\")\n",
    "model.save('C:\\\\Users\\\\mrall\\\\Desktop\\\\Thesis\\\\Experiments\\\\Models\\\\Model.h5')"
   ]
  },
  {
   "cell_type": "markdown",
   "metadata": {},
   "source": [
    "# Model loading"
   ]
  },
  {
   "cell_type": "code",
   "execution_count": 24,
   "metadata": {},
   "outputs": [],
   "source": [
    "from tensorflow.keras.models import load_model\n",
    "new_model = load_model('C:\\\\Users\\\\mrall\\\\Desktop\\\\Thesis\\\\Experiments\\\\Models\\\\Model.h5')"
   ]
  },
  {
   "cell_type": "code",
   "execution_count": null,
   "metadata": {},
   "outputs": [],
   "source": [
    "from keras.utils.vis_utils import plot_model\n",
    "\n",
    "plot_model(model, to_file='model_plot.png', show_shapes=True, show_layer_names=True)"
   ]
  },
  {
   "cell_type": "code",
   "execution_count": 19,
   "metadata": {},
   "outputs": [
    {
     "name": "stderr",
     "output_type": "stream",
     "text": [
      "Using TensorFlow backend.\n"
     ]
    },
    {
     "ename": "ValueError",
     "evalue": "Keras Visualizer: Layer not supported for visualizing",
     "output_type": "error",
     "traceback": [
      "\u001b[1;31m---------------------------------------------------------------------------\u001b[0m",
      "\u001b[1;31mValueError\u001b[0m                                Traceback (most recent call last)",
      "\u001b[1;32m<ipython-input-19-0ec4d4b50ace>\u001b[0m in \u001b[0;36m<module>\u001b[1;34m\u001b[0m\n\u001b[0;32m      1\u001b[0m \u001b[1;32mfrom\u001b[0m \u001b[0mkeras_visualizer\u001b[0m \u001b[1;32mimport\u001b[0m \u001b[0mvisualizer\u001b[0m\u001b[1;33m\u001b[0m\u001b[1;33m\u001b[0m\u001b[0m\n\u001b[0;32m      2\u001b[0m \u001b[1;33m\u001b[0m\u001b[0m\n\u001b[1;32m----> 3\u001b[1;33m \u001b[0mvisualizer\u001b[0m\u001b[1;33m(\u001b[0m\u001b[0mmodel\u001b[0m\u001b[1;33m,\u001b[0m \u001b[0mformat\u001b[0m\u001b[1;33m=\u001b[0m\u001b[1;34m'png'\u001b[0m\u001b[1;33m,\u001b[0m \u001b[0mview\u001b[0m\u001b[1;33m=\u001b[0m\u001b[1;32mTrue\u001b[0m\u001b[1;33m)\u001b[0m\u001b[1;33m\u001b[0m\u001b[1;33m\u001b[0m\u001b[0m\n\u001b[0m",
      "\u001b[1;32m~\\anaconda3\\lib\\site-packages\\keras_visualizer\\__init__.py\u001b[0m in \u001b[0;36mvisualizer\u001b[1;34m(model, filename, format, view)\u001b[0m\n\u001b[0;32m    128\u001b[0m                 \u001b[0mc\u001b[0m\u001b[1;33m.\u001b[0m\u001b[0mnode\u001b[0m\u001b[1;33m(\u001b[0m\u001b[0mstr\u001b[0m\u001b[1;33m(\u001b[0m\u001b[0mn\u001b[0m\u001b[1;33m)\u001b[0m\u001b[1;33m,\u001b[0m \u001b[0mlabel\u001b[0m\u001b[1;33m=\u001b[0m\u001b[1;34mf'Image\\n{pxls[1]} x{pxls[2]} pixels\\n{clrmap}'\u001b[0m\u001b[1;33m,\u001b[0m \u001b[0mfontcolor\u001b[0m\u001b[1;33m=\u001b[0m\u001b[1;34m'white'\u001b[0m\u001b[1;33m,\u001b[0m \u001b[0mshape\u001b[0m\u001b[1;33m=\u001b[0m\u001b[1;34m'square'\u001b[0m\u001b[1;33m,\u001b[0m \u001b[0mstyle\u001b[0m\u001b[1;33m=\u001b[0m\u001b[1;34m'filled'\u001b[0m\u001b[1;33m,\u001b[0m \u001b[0mfillcolor\u001b[0m\u001b[1;33m=\u001b[0m\u001b[0mthe_color\u001b[0m\u001b[1;33m)\u001b[0m\u001b[1;33m\u001b[0m\u001b[1;33m\u001b[0m\u001b[0m\n\u001b[0;32m    129\u001b[0m             \u001b[1;32melse\u001b[0m\u001b[1;33m:\u001b[0m\u001b[1;33m\u001b[0m\u001b[1;33m\u001b[0m\u001b[0m\n\u001b[1;32m--> 130\u001b[1;33m                 \u001b[1;32mraise\u001b[0m \u001b[0mValueError\u001b[0m\u001b[1;33m(\u001b[0m\u001b[1;34m'Keras Visualizer: Layer not supported for visualizing'\u001b[0m\u001b[1;33m)\u001b[0m\u001b[1;33m\u001b[0m\u001b[1;33m\u001b[0m\u001b[0m\n\u001b[0m\u001b[0;32m    131\u001b[0m \u001b[1;33m\u001b[0m\u001b[0m\n\u001b[0;32m    132\u001b[0m         \u001b[1;31m# Hidden Layers\u001b[0m\u001b[1;33m\u001b[0m\u001b[1;33m\u001b[0m\u001b[1;33m\u001b[0m\u001b[0m\n",
      "\u001b[1;31mValueError\u001b[0m: Keras Visualizer: Layer not supported for visualizing"
     ]
    }
   ],
   "source": [
    "from keras_visualizer import visualizer\n",
    "\n",
    "visualizer(model, format='png', view=True)"
   ]
  },
  {
   "cell_type": "code",
   "execution_count": null,
   "metadata": {},
   "outputs": [],
   "source": []
  },
  {
   "cell_type": "code",
   "execution_count": null,
   "metadata": {},
   "outputs": [],
   "source": []
  },
  {
   "cell_type": "code",
   "execution_count": null,
   "metadata": {},
   "outputs": [],
   "source": []
  }
 ],
 "metadata": {
  "kernelspec": {
   "display_name": "Python 3",
   "language": "python",
   "name": "python3"
  },
  "language_info": {
   "codemirror_mode": {
    "name": "ipython",
    "version": 3
   },
   "file_extension": ".py",
   "mimetype": "text/x-python",
   "name": "python",
   "nbconvert_exporter": "python",
   "pygments_lexer": "ipython3",
   "version": "3.8.3"
  }
 },
 "nbformat": 4,
 "nbformat_minor": 4
}
